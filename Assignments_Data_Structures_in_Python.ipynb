{
  "nbformat": 4,
  "nbformat_minor": 0,
  "metadata": {
    "colab": {
      "provenance": []
    },
    "kernelspec": {
      "name": "python3",
      "display_name": "Python 3"
    },
    "language_info": {
      "name": "python"
    }
  },
  "cells": [
    {
      "cell_type": "markdown",
      "source": [
        "#1. Write a code to reverse a string"
      ],
      "metadata": {
        "id": "3XhEYFYM9EqU"
      }
    },
    {
      "cell_type": "code",
      "source": [
        "st = input(\"Enter a string\")\n",
        "ans = \"\"\n",
        "for i in range(len(st)-1,-1,-1):\n",
        "  ans += (st[i])\n",
        "\n",
        "print(ans)"
      ],
      "metadata": {
        "id": "gHwuAwox9PVc"
      },
      "execution_count": null,
      "outputs": []
    },
    {
      "cell_type": "markdown",
      "source": [
        "#2. Write a code to count the number of vowels in a string."
      ],
      "metadata": {
        "id": "WiyOn5lY_wei"
      }
    },
    {
      "cell_type": "code",
      "source": [
        "st2 = input(\"Enter a string\")\n",
        "cnt=0\n",
        "for x in st2:\n",
        "  if x=='a'or x=='e' or x=='i' or x=='o' or  x=='u':\n",
        "    cnt+=1\n",
        "print(\"number of vowel is \",cnt)\n",
        "\n"
      ],
      "metadata": {
        "id": "RTEmFg7t_8sy"
      },
      "execution_count": null,
      "outputs": []
    },
    {
      "cell_type": "markdown",
      "source": [
        "#3. Write a code to check if a given string is a palindrome or not"
      ],
      "metadata": {
        "id": "J6bWFi9ACLSZ"
      }
    },
    {
      "cell_type": "code",
      "source": [
        "st3 = input(\"Enter a string\")\n",
        "s=0\n",
        "e=len(st3)-1\n",
        "flag=0\n",
        "while s<e:\n",
        "  if st3[s]!=st3[e]:\n",
        "    flag=1\n",
        "  s+=1\n",
        "  e-=1\n",
        "if(flag==0):\n",
        "  print(\"it is a Palindrom\")\n",
        "else:\n",
        "  print(\"it is not a Palindrom\")"
      ],
      "metadata": {
        "id": "ZPLn1JhhCRav"
      },
      "execution_count": null,
      "outputs": []
    },
    {
      "cell_type": "markdown",
      "source": [
        "#4. Write a code to check if two given strings are anagrams of each other"
      ],
      "metadata": {
        "id": "gA8L56kMFWIY"
      }
    },
    {
      "cell_type": "code",
      "source": [
        "st1 = input(\"Enter 1st string\")\n",
        "st2 = input(\"Enter 2nd string\")\n",
        "n_st1 = sorted(st1)\n",
        "n_st2 = sorted(st2)\n",
        "\n",
        "if(n_st1 == n_st2):\n",
        "  print(\"strings are anagrams\")\n",
        "else:\n",
        "  print(\"strings are not anagrams\")"
      ],
      "metadata": {
        "id": "s5Sw_rBNFdlo"
      },
      "execution_count": null,
      "outputs": []
    },
    {
      "cell_type": "markdown",
      "source": [
        "#5. Write a code to find all occurrences of a given substring within another string."
      ],
      "metadata": {
        "id": "YdKZ_StGO2tM"
      }
    },
    {
      "cell_type": "code",
      "source": [
        "st1 = input(\"Enter 1st string\")\n",
        "st2 = input(\"Enter 2nd string\")\n",
        "ans = []\n",
        "s=0\n",
        "n=len(st1)\n",
        "while s<n:\n",
        "  s = st1.find(st2,s)\n",
        "  if s==-1:\n",
        "    break\n",
        "  ans.append(s)\n",
        "  s+=1\n",
        "print(ans)\n"
      ],
      "metadata": {
        "id": "li1XzskhPGsv"
      },
      "execution_count": null,
      "outputs": []
    },
    {
      "cell_type": "markdown",
      "source": [
        "#6. Write a code to perform basic string compression using the counts of repeated characters"
      ],
      "metadata": {
        "id": "ePSOSfRphkWZ"
      }
    },
    {
      "cell_type": "code",
      "source": [
        "st1 = \"aaaabbchhtt\"\n",
        "ans = \"\"\n",
        "cnt =1\n",
        "import builtins\n",
        "for i in range(1,len(st1)):\n",
        "  if st1[i-1]==st1[i]:\n",
        "    cnt+=1\n",
        "  else:\n",
        "    ans+= st1[i-1]+builtins.str(cnt)\n",
        "    cnt=1\n",
        "ans+=st1[-1]+builtins.str(cnt)\n",
        "if len(ans)>=len(st1):\n",
        "  print(st1)\n",
        "else:\n",
        "  print(ans)\n"
      ],
      "metadata": {
        "id": "WRrliHN4hDbM"
      },
      "execution_count": null,
      "outputs": []
    },
    {
      "cell_type": "markdown",
      "source": [
        "#7. Write a code to determine if a string has all unique characters"
      ],
      "metadata": {
        "id": "_BwBmicP1_eE"
      }
    },
    {
      "cell_type": "code",
      "source": [
        "st1 = \"banana\"\n",
        "from collections import Counter\n",
        "char_cnt = dict(Counter(st1))\n",
        "flag =0\n",
        "for count in char_cnt.values():\n",
        "    if count > 1:\n",
        "        flag = 1\n",
        "        break\n",
        "if(flag==0):\n",
        "  print(\"string has all unique characters\")\n",
        "else:\n",
        "  print(\"string has not all unique characters\")"
      ],
      "metadata": {
        "id": "h1nYb3FSsm8q"
      },
      "execution_count": null,
      "outputs": []
    },
    {
      "cell_type": "markdown",
      "source": [
        "#8. Write a code to convert a given string to uppercase or lowercase"
      ],
      "metadata": {
        "id": "eu0KpkkB-m5H"
      }
    },
    {
      "cell_type": "code",
      "source": [
        "st1 = input(\"Enter a string\")\n",
        "upper_case = st1.upper()\n",
        "print(\"UPPER_CASE:\",upper_case)\n",
        "lower_case = st1.lower()\n",
        "print(\"lower_case:\",lower_case)"
      ],
      "metadata": {
        "id": "9sdP6Gmp9dPU"
      },
      "execution_count": null,
      "outputs": []
    },
    {
      "cell_type": "markdown",
      "source": [
        "#9. Write a code to count the number of words in a string"
      ],
      "metadata": {
        "id": "q0RIFo12_04b"
      }
    },
    {
      "cell_type": "code",
      "source": [
        "st1 =\"Today is a very Pleasant day\"\n",
        "n=len(st1)\n",
        "cnt =0\n",
        "for i in range(n):\n",
        "  if st1[i]==' ':\n",
        "    cnt+=1\n",
        "print(\"number of words in a string:\",cnt+1)"
      ],
      "metadata": {
        "id": "RB9X7C7m_6T7"
      },
      "execution_count": null,
      "outputs": []
    },
    {
      "cell_type": "markdown",
      "source": [
        "#10. Write a code to concatenate two strings without using the + operator"
      ],
      "metadata": {
        "id": "TpNAYeEZ2klO"
      }
    },
    {
      "cell_type": "code",
      "source": [
        "st1 = \"Goyal\"\n",
        "st2 = \"Raj\"\n",
        "new_st = \"{}{}\".format(st1,st2)\n",
        "print(new_st)"
      ],
      "metadata": {
        "id": "TRhpyDDCA3Jd"
      },
      "execution_count": null,
      "outputs": []
    },
    {
      "cell_type": "markdown",
      "source": [
        "#11. Write a code to remove all occurrences of a specific element from a list"
      ],
      "metadata": {
        "id": "PugbG0Fh6Ctp"
      }
    },
    {
      "cell_type": "code",
      "source": [
        "list_1 = [1, 2, 2, 4, 4, 5, 6, 7, 7]\n",
        "element = 2\n",
        "list_1 = [x for x in list_1 if x != element]\n",
        "print(list_1)"
      ],
      "metadata": {
        "id": "clixGFlr6IJR"
      },
      "execution_count": null,
      "outputs": []
    },
    {
      "cell_type": "markdown",
      "source": [
        "# 12.Implement a code to find the second largest number in a given list of integers"
      ],
      "metadata": {
        "id": "1m7mnKLHOo6W"
      }
    },
    {
      "cell_type": "code",
      "source": [
        "list_2 = [1,3,4,4,57,45,2,78]\n",
        "maxi = -9999999\n",
        "for i in list_2:\n",
        "    if i > maxi:\n",
        "        maxi = i\n",
        "list_2.remove(maxi)\n",
        "maxi = -9999999\n",
        "for i in list_2:\n",
        "    if i > maxi:\n",
        "        maxi = i\n",
        "print(maxi)\n"
      ],
      "metadata": {
        "id": "N0D-wZsGO8m0"
      },
      "execution_count": null,
      "outputs": []
    },
    {
      "cell_type": "markdown",
      "source": [
        "#13. Create a code to count the occurrences of each element in a list and return a dictionary with elements as keys and their counts as values\n"
      ],
      "metadata": {
        "id": "fciIjnn5Q9yL"
      }
    },
    {
      "cell_type": "code",
      "source": [
        "my_list = [1, 2, 2, 3, 3, 3, 4, 4, 4, 4]\n",
        "count_dict = {}\n",
        "\n",
        "for num in my_list:\n",
        "    if num in count_dict:\n",
        "        count_dict[num] += 1\n",
        "    else:\n",
        "        count_dict[num] = 1\n",
        "\n",
        "print(count_dict)"
      ],
      "metadata": {
        "id": "6cHdnCSgROkC"
      },
      "execution_count": null,
      "outputs": []
    },
    {
      "cell_type": "markdown",
      "source": [
        "# 14. Write a code to reverse a list in-place without using any built-in reverse functions"
      ],
      "metadata": {
        "id": "7PBVPvIvk9LH"
      }
    },
    {
      "cell_type": "code",
      "source": [
        "lst = [4,3,45,28,7,8]\n",
        "left, right = 0, len(lst) - 1\n",
        "while left < right:\n",
        "        lst[left], lst[right] = lst[right], lst[left]\n",
        "        left += 1\n",
        "        right -= 1\n",
        "print(lst)\n",
        "\n"
      ],
      "metadata": {
        "id": "Aycfmbx9lIhl"
      },
      "execution_count": null,
      "outputs": []
    },
    {
      "cell_type": "markdown",
      "source": [
        "#15. Implement a code to find and remove duplicates from a list while preserving the original order of elements\n"
      ],
      "metadata": {
        "id": "YRh7KZObmWqy"
      }
    },
    {
      "cell_type": "code",
      "source": [
        "list_m = [3,4,3,5,5,6,7,8,56]\n",
        "s = set()\n",
        "list_n = []\n",
        "\n",
        "for item in list_m:\n",
        "    if item not in s:\n",
        "        s.add(item)\n",
        "        list_n.append(item)\n",
        "\n",
        "print(list_n)"
      ],
      "metadata": {
        "id": "S3gQ9ikVmkuR"
      },
      "execution_count": null,
      "outputs": []
    },
    {
      "cell_type": "markdown",
      "source": [
        "#16. Create a code to check if a given list is sorted (either in ascending or descending order) or not"
      ],
      "metadata": {
        "id": "pEv_SJolBmBd"
      }
    },
    {
      "cell_type": "code",
      "source": [
        "list_b = [7,34,21,3,56,9]\n",
        "list_a = sorted(list_b)\n",
        "list_d = sorted(list_b,reverse=True)\n",
        "if list_b == list_a or list_b==list_d:\n",
        "  print(\"list is sorted\")\n",
        "else:\n",
        "  print(\"list is not sorted\")"
      ],
      "metadata": {
        "id": "pMtlwo1DBuqz"
      },
      "execution_count": null,
      "outputs": []
    },
    {
      "cell_type": "markdown",
      "source": [
        "#17. Write a code to merge two sorted lists into a single sorted list"
      ],
      "metadata": {
        "id": "QynXYCokI6PH"
      }
    },
    {
      "cell_type": "code",
      "source": [
        "list_1 = [3,4,5,12,25,36]\n",
        "list_2 = [1,6,15,18,56]\n",
        "i,j=0,0\n",
        "m=len(list_1)\n",
        "n=len(list_2)\n",
        "ans = []\n",
        "while i<m and j<n:\n",
        "  if list_1[i]<list_2[j]:\n",
        "    ans.append(list_1[i])\n",
        "    i+=1\n",
        "  else:\n",
        "    ans.append(list_2[j])\n",
        "    j+=1\n",
        "if i<m:\n",
        "  ans+=list_1[i:]\n",
        "if j<n:\n",
        "  ans+=list_2[j:]\n",
        "print(ans)"
      ],
      "metadata": {
        "id": "k4wtks5FJDjv"
      },
      "execution_count": null,
      "outputs": []
    },
    {
      "cell_type": "markdown",
      "source": [
        "#18. Implement a code to find the intersection of two given lists"
      ],
      "metadata": {
        "id": "bVOnG69DQTVN"
      }
    },
    {
      "cell_type": "code",
      "source": [
        "list1 = [1, 2, 3, 4, 5]\n",
        "list2 = [3, 4, 5, 6, 7]\n",
        "list_n = list(set(list1) & set(list2))\n",
        "print(list_n)"
      ],
      "metadata": {
        "id": "khA7VfFsQbwh"
      },
      "execution_count": null,
      "outputs": []
    },
    {
      "cell_type": "markdown",
      "source": [
        "#19. Create a code to find the union of two lists without duplicates"
      ],
      "metadata": {
        "id": "Ry7ty0dSR8lY"
      }
    },
    {
      "cell_type": "code",
      "source": [
        "list1 = [1, 2, 3, 4, 5]\n",
        "list2 = [3, 4, 5, 6, 7]\n",
        "list_n = list(set(list1) | set(list2))\n",
        "print(list_n)"
      ],
      "metadata": {
        "id": "1UQrR84WSumd"
      },
      "execution_count": null,
      "outputs": []
    },
    {
      "cell_type": "markdown",
      "source": [
        "#20. Write a code to shuffle a given list randomly without using any built-in shuffle functions"
      ],
      "metadata": {
        "id": "slqXd_E7S_Zd"
      }
    },
    {
      "cell_type": "code",
      "source": [
        "arr = [1, 2, 3, 4, 5, 6, 7, 8, 9]\n",
        "n = len(arr)\n",
        "import random\n",
        "for i in range(n - 1, 0, -1):\n",
        "  j = random.randint(0, i)\n",
        "  arr[i], arr[j] = arr[j], arr[i]\n",
        "\n",
        "print(arr)"
      ],
      "metadata": {
        "id": "9-WuH1E8TEol"
      },
      "execution_count": null,
      "outputs": []
    },
    {
      "cell_type": "markdown",
      "source": [
        "# 21. Write a code that takes two tuples as input and returns a new tuple containing elements that are common to both input tuples\n"
      ],
      "metadata": {
        "id": "lRaA5udAmVtO"
      }
    },
    {
      "cell_type": "code",
      "source": [
        "t1 = tuple(map(int,input(\"Enter elements seperated by space \").split()))\n",
        "t2 = tuple(map(int,input(\"Enter elements seperated by space \").split()))\n",
        "s1 = set(t1)\n",
        "s2 = set(t2)\n",
        "t3 = tuple(s1 & s2)\n",
        "print(t3)"
      ],
      "metadata": {
        "id": "sCejtfB6mtf0"
      },
      "execution_count": null,
      "outputs": []
    },
    {
      "cell_type": "markdown",
      "source": [
        "#22. Create a code that prompts the user to enter two sets of integers separated by commas. Then, print the intersection of these two sets\n"
      ],
      "metadata": {
        "id": "DxLp5xpwqARs"
      }
    },
    {
      "cell_type": "code",
      "source": [
        "s1 = set(map(int,input(\"Enter elements seperated by commas \").split(\",\")))\n",
        "s2 = set(map(int,input(\"Enter elements seperated by commas \").split(\",\")))\n",
        "print(s1 & s2)"
      ],
      "metadata": {
        "id": "NZf19BXlqIOF"
      },
      "execution_count": null,
      "outputs": []
    },
    {
      "cell_type": "markdown",
      "source": [
        "#23. Write a code to concatenate two tuples. The function should take two tuples as input and return a new tuple containing elements from both input tuples\n"
      ],
      "metadata": {
        "id": "DIMGbeHxxDdO"
      }
    },
    {
      "cell_type": "code",
      "source": [
        "t1 = tuple(map(int,input(\"Enter the element seperated by space \").split()))\n",
        "t2 = tuple(map(int,input(\"Enter the element seperated by space \").split()))\n",
        "t3 = t1+t2\n",
        "print(t3)"
      ],
      "metadata": {
        "id": "QAzV903cxKcW"
      },
      "execution_count": null,
      "outputs": []
    },
    {
      "cell_type": "markdown",
      "source": [
        "#24. Develop a code that prompts the user to input two sets of strings. Then, print the elements that are present in the first set but not in the second set\n"
      ],
      "metadata": {
        "id": "eYwVDolCyNPQ"
      }
    },
    {
      "cell_type": "code",
      "source": [
        "s1 = set(input(\"Enter elements of the first set separated by space: \").split())\n",
        "s2 = set(input(\"Enter elements of the second set separated by space: \").split())\n",
        "print(s1-s2)"
      ],
      "metadata": {
        "id": "HvTEhsZ5zeQW"
      },
      "execution_count": null,
      "outputs": []
    },
    {
      "cell_type": "markdown",
      "source": [
        "#25. Create a code that takes a tuple and two integers as input. The function should return a new tuple containing elements from the original tuple within the specified range of indices\n"
      ],
      "metadata": {
        "id": "lfRFppFD1C_2"
      }
    },
    {
      "cell_type": "code",
      "source": [
        "t1 = tuple(map(int,input(\"Enter elements seperated by space \").split()))\n",
        "i = int(input(\"Enter the starting index\"))\n",
        "j = int(input(\"Enter the ending index\"))\n",
        "t2 = []\n",
        "for k in range(i,j):\n",
        "  t2.append(t1[k])\n",
        "t2 = tuple(t2)\n",
        "print(t2)"
      ],
      "metadata": {
        "id": "zguwMNC51P48"
      },
      "execution_count": null,
      "outputs": []
    },
    {
      "cell_type": "markdown",
      "source": [
        "#26. Write a code that prompts the user to input two sets of characters. Then, print the union of these two sets"
      ],
      "metadata": {
        "id": "z6UnYAEuCKeU"
      }
    },
    {
      "cell_type": "code",
      "source": [
        "s1 = set(input(\"Enter elements of set seperated by space \").split())\n",
        "s2 = set(input(\"Enter elements of set seperated by space \").split())\n",
        "s3 = s1 | s2\n",
        "print(s3)"
      ],
      "metadata": {
        "id": "m2HdQZ7RCWyv"
      },
      "execution_count": null,
      "outputs": []
    },
    {
      "cell_type": "markdown",
      "source": [
        "#27. Develop a code that takes a tuple of integers as input. The function should return the maximum and minimum values from the tuple using tuple unpacking\n"
      ],
      "metadata": {
        "id": "u_1-uR8fX4w9"
      }
    },
    {
      "cell_type": "code",
      "source": [
        "t1 = tuple(map(int, input(\"Enter the element seperated by space \").split()))\n",
        "maxi,mini = max(t1),min(t1)\n",
        "print(maxi,mini)"
      ],
      "metadata": {
        "id": "A1xg_APUYAgs"
      },
      "execution_count": null,
      "outputs": []
    },
    {
      "cell_type": "markdown",
      "source": [
        "#28. Create a code that defines two sets of integers. Then, print the union, intersection, and difference of these two sets\n"
      ],
      "metadata": {
        "id": "IbnrLqTmZWEq"
      }
    },
    {
      "cell_type": "code",
      "source": [
        "s1 = {2,3,4,11,15}\n",
        "s2 = {1,2,3,5,17,11}\n",
        "print(s1 | s2)\n",
        "print(s1 & s2)\n",
        "print(s1 - s2)"
      ],
      "metadata": {
        "id": "a8bdz-ihZgcm"
      },
      "execution_count": null,
      "outputs": []
    },
    {
      "cell_type": "markdown",
      "source": [
        "#29. Write a code that takes a tuple and an element as input. The function should return the count of occurrences of the given element in the tuple\n"
      ],
      "metadata": {
        "id": "IRKoCTx7Z3RL"
      }
    },
    {
      "cell_type": "code",
      "source": [
        "t1 = tuple(input(\"Enter the element seperated by space \").split())\n",
        "element = input(\"Enter the element \")\n",
        "print(t1.count(element))"
      ],
      "metadata": {
        "id": "CksPRktOaHVR"
      },
      "execution_count": null,
      "outputs": []
    },
    {
      "cell_type": "markdown",
      "source": [
        "#30. Develop a code that prompts the user to input two sets of strings. Then, print the symmetric difference of these two sets\n"
      ],
      "metadata": {
        "id": "Ai3uPdDZauxd"
      }
    },
    {
      "cell_type": "code",
      "source": [
        "s1 = set(input(\"Enter elements of set seperated by space \").split())\n",
        "s2 = set(input(\"Enter elements of set seperated by space \").split())\n",
        "print(s1 ^ s2)"
      ],
      "metadata": {
        "id": "Whofzu7Ka5wZ"
      },
      "execution_count": null,
      "outputs": []
    },
    {
      "cell_type": "markdown",
      "source": [
        "#31. Write a code that takes a list of words as input and returns a dictionary where the keys are unique words and the values are the frequencies of those words in the input list\n"
      ],
      "metadata": {
        "id": "qE6QUzOwbYko"
      }
    },
    {
      "cell_type": "code",
      "source": [
        "lis = input(\"Enter the element seperated by space \").split()\n",
        "dic = {}\n",
        "for i in lis:\n",
        "  if i in dic:\n",
        "    dic[i]+=1\n",
        "  else:\n",
        "    dic[i]=1\n",
        "print(dic)"
      ],
      "metadata": {
        "id": "hKNoN1R9bl75"
      },
      "execution_count": null,
      "outputs": []
    },
    {
      "cell_type": "markdown",
      "source": [
        "#32. Write a code that takes two dictionaries as input and merges them into a single dictionary. If there are common keys, the values should be added together\n"
      ],
      "metadata": {
        "id": "sDuHEyPGcqnx"
      }
    },
    {
      "cell_type": "code",
      "source": [
        "def take_input():\n",
        "  n = int(input(\"Enter the number of key-value pairs: \"))\n",
        "  d={}\n",
        "  for _ in range(n):\n",
        "    key = input(\"Enter the key: \")\n",
        "    value = int(input(\"Enter the value: \"))\n",
        "    d[key] = value\n",
        "  return d\n",
        "\n",
        "def merge_dictionaries(d1, d2):\n",
        "  merged_dict = d1.copy()\n",
        "  for key, value in d2.items():\n",
        "    if key in merged_dict:\n",
        "      merged_dict[key] += value\n",
        "    else:\n",
        "      merged_dict[key] = value\n",
        "  return merged_dict\n",
        "print(\"Enter first dictionary\")\n",
        "d1 = take_input()\n",
        "print(\"Enter second dictionary\")\n",
        "d2 = take_input()\n",
        "result = merge_dictionaries(d1, d2)\n",
        "print(\"Merged dictionary:\", result)"
      ],
      "metadata": {
        "id": "-nw3vWf8c7eh"
      },
      "execution_count": null,
      "outputs": []
    },
    {
      "cell_type": "markdown",
      "source": [
        "#33. Write a code to access a value in a nested dictionary. The function should take the dictionary and a list of keys as input, and return the corresponding value. If any of the keys do not exist in the dictionary, the function should return None\n",
        "\n"
      ],
      "metadata": {
        "id": "saB5FkiVd_Bc"
      }
    },
    {
      "cell_type": "code",
      "source": [
        "def fetch_nested_value(dictionary, key_path):\n",
        "    temp = dictionary\n",
        "    for key in key_path:\n",
        "        if isinstance(temp, dict) and key in temp:\n",
        "            temp = temp[key]\n",
        "        else:\n",
        "            return None\n",
        "    return temp\n",
        "\n",
        "\n",
        "data = {\n",
        "    \"alpha\": {\n",
        "        \"beta\": {\n",
        "            \"gamma\": 42\n",
        "        },\n",
        "        \"delta\": 100\n",
        "    },\n",
        "    \"m\": {\n",
        "        \"n\": \"world\"\n",
        "    }\n",
        "}\n",
        "\n",
        "\n",
        "path_1 = [\"alpha\", \"beta\", \"gamma\"]\n",
        "path_2 = [\"m\", \"n\"]\n",
        "path_3 = [\"alpha\", \"zeta\"]\n",
        "\n",
        "\n",
        "print(fetch_nested_value(data, path_1))\n",
        "print(fetch_nested_value(data, path_2))\n",
        "print(fetch_nested_value(data, path_3))"
      ],
      "metadata": {
        "id": "sJQ8RpNieqWT"
      },
      "execution_count": null,
      "outputs": []
    },
    {
      "cell_type": "markdown",
      "source": [
        "#34. Write a code that takes a dictionary as input and returns a sorted version of it based on the values. You can choose whether to sort in ascending or descending order\n"
      ],
      "metadata": {
        "id": "sGJcQlYi1N6z"
      }
    },
    {
      "cell_type": "code",
      "source": [
        "n = int(input(\"Enter the number of key-value pairs: \"))\n",
        "d={}\n",
        "for _ in range(n):\n",
        "  key = input(\"Enter the key: \")\n",
        "  value = int(input(\"Enter the value: \"))\n",
        "  d[key] = value\n",
        "d2 = sorted(d.items(), key=lambda x: x[1])\n",
        "print(dict(d2))"
      ],
      "metadata": {
        "id": "JRdqPwCa2JV9"
      },
      "execution_count": null,
      "outputs": []
    },
    {
      "cell_type": "markdown",
      "source": [
        "#35. Write a code that inverts a dictionary, swapping keys and values. Ensure that the inverted dictionary correctly handles cases where multiple keys have the same value by storing the keys as a list in the inverted dictionary.\n",
        "\n"
      ],
      "metadata": {
        "id": "xBiet7hkpjuQ"
      }
    },
    {
      "cell_type": "code",
      "source": [
        "def invert_dict(d):\n",
        "    inverted = {}\n",
        "    for key, value in d.items():\n",
        "        if value in inverted:\n",
        "            inverted[value].append(key)\n",
        "        else:\n",
        "            inverted[value] = [key]\n",
        "    return inverted\n",
        "\n",
        "\n",
        "original_dict = {\n",
        "    'apple': 1,\n",
        "    'banana': 2,\n",
        "    'cherry': 1,\n",
        "    'date': 3,\n",
        "    'elderberry': 2\n",
        "}\n",
        "\n",
        "inverted_dict = invert_dict(original_dict)\n",
        "print(inverted_dict)"
      ],
      "metadata": {
        "id": "u6O7KR6JpvqA"
      },
      "execution_count": null,
      "outputs": []
    }
  ]
}